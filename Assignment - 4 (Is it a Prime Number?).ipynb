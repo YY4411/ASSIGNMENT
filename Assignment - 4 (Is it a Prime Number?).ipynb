{
 "cells": [
  {
   "cell_type": "code",
   "execution_count": 1,
   "metadata": {},
   "outputs": [
    {
     "name": "stdout",
     "output_type": "stream",
     "text": [
      "enter a number to check if it is a prime or not:23\n",
      "23 is a prime number\n"
     ]
    }
   ],
   "source": [
    "n = int(input(\"enter a number to check if it is a prime or not:\"))\n",
    "\n",
    "count = 0\n",
    "\n",
    "for i in range(1, n+1) :\n",
    "    if not (n % i) : count += 1\n",
    "\n",
    "if (n == 0) or (n == 1) or (count >=3) : print(n, \"is not a prime number.\")\n",
    "else : print(n, \"is a prime number\")"
   ]
  },
  {
   "cell_type": "code",
   "execution_count": null,
   "metadata": {},
   "outputs": [],
   "source": []
  }
 ],
 "metadata": {
  "kernelspec": {
   "display_name": "Python 3.8.3 64-bit",
   "language": "python",
   "name": "python38364bitfcf574c5fe5f4ad9a649178827f7862a"
  },
  "language_info": {
   "codemirror_mode": {
    "name": "ipython",
    "version": 3
   },
   "file_extension": ".py",
   "mimetype": "text/x-python",
   "name": "python",
   "nbconvert_exporter": "python",
   "pygments_lexer": "ipython3",
   "version": "3.8.3"
  }
 },
 "nbformat": 4,
 "nbformat_minor": 4
}
