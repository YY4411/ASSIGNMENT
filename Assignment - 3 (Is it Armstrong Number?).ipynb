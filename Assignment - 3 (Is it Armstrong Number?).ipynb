{
 "cells": [
  {
   "cell_type": "markdown",
   "metadata": {},
   "source": [
    "Task:\n",
    "\n",
    "Find out if a given number is an \"Armstrong Number\".\n",
    "\n",
    "An n-digit number that is the sum of the nth powers of its digits is called an n-Armstrong number. Examples :\n",
    "371 = 33 + 73 + 13;\n",
    "9474 = 94 + 44 + 74 + 44;\n",
    "93084 = 95 + 35 + 05 + 85 + 45.\n",
    "\n",
    "Write a Python program that;\n",
    "takes a positive integer number from the user,\n",
    "checks the entered number if it is Armstrong,\n",
    "consider the negative, float and any entries other than numeric values then display a warning message to the user."
   ]
  },
  {
   "cell_type": "code",
   "execution_count": 43,
   "metadata": {},
   "outputs": [
    {
     "name": "stdout",
     "output_type": "stream",
     "text": [
      "Enter a number :371\n",
      "371 is an Armstrong number\n"
     ]
    }
   ],
   "source": [
    "number = int(input(\"Enter a number :\"))\n",
    "\n",
    "basamak = str(number)\n",
    "\n",
    "armtoplam = 0\n",
    "\n",
    "for i in basamak:\n",
    "    i =int(i)\n",
    "    armtoplam = armtoplam + i **len(basamak)\n",
    "    \n",
    "if armtoplam == number:\n",
    "    print(number, \"is an Armstrong number\")\n",
    "    \n",
    "else:\n",
    "    print( \"It's an invalid entry. Don't use non-numeric,float, or negative values!\")\n",
    "    \n",
    "#if number == sum:\n",
    "#    print(number,\"is an Armstrong number\")\n",
    "#else:\n",
    "#    print(number,\"It is an invalid entry. Don't use non-numeric, float, or negative values!\")\n",
    "##if number \n",
    "#    \n",
    "#    print( \"It's an invalid entry. Don't use non-numeric,float, or negative values!\")\n",
    "#\n",
    "#else:   \n",
    "#    print(\" {} is an Armstrong number\".format(number))"
   ]
  },
  {
   "cell_type": "code",
   "execution_count": 36,
   "metadata": {},
   "outputs": [
    {
     "data": {
      "text/plain": [
       "5"
      ]
     },
     "execution_count": 36,
     "metadata": {},
     "output_type": "execute_result"
    }
   ],
   "source": [
    "85 % 10"
   ]
  },
  {
   "cell_type": "code",
   "execution_count": null,
   "metadata": {},
   "outputs": [],
   "source": []
  },
  {
   "cell_type": "code",
   "execution_count": null,
   "metadata": {},
   "outputs": [],
   "source": []
  },
  {
   "cell_type": "code",
   "execution_count": null,
   "metadata": {},
   "outputs": [],
   "source": []
  }
 ],
 "metadata": {
  "kernelspec": {
   "display_name": "Python 3.8.3 64-bit",
   "language": "python",
   "name": "python38364bitfcf574c5fe5f4ad9a649178827f7862a"
  },
  "language_info": {
   "codemirror_mode": {
    "name": "ipython",
    "version": 3
   },
   "file_extension": ".py",
   "mimetype": "text/x-python",
   "name": "python",
   "nbconvert_exporter": "python",
   "pygments_lexer": "ipython3",
   "version": "3.8.3"
  }
 },
 "nbformat": 4,
 "nbformat_minor": 4
}
