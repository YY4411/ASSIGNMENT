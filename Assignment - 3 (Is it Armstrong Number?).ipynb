{
 "cells": [
  {
   "cell_type": "code",
   "execution_count": 4,
   "metadata": {},
   "outputs": [
    {
     "name": "stdout",
     "output_type": "stream",
     "text": [
      "Please enter a positive number :407\n",
      "This is an armstrong number\n"
     ]
    }
   ],
   "source": [
    "num = input(\"Please enter a positive number :\")\n",
    "strong = len(num)\n",
    "i = 0\n",
    "summon = 0\n",
    "if not num.isdigit() :\n",
    "    print(\" It is an invalid entry. Don't use non-numeric, float, or negative values!\")\n",
    "elif float(num) < 0:\n",
    "    print(\" It is an invalid entry. Don't use non-numeric, float, or negative values!\")\n",
    "else:\n",
    "    while i < strong:\n",
    "        digit = int(num[i]) ** strong\n",
    "        summon += digit\n",
    "        i +=1\n",
    "    if summon == int(num):\n",
    "        print(\"This is an armstrong number\")\n",
    "    else:\n",
    "        print(\"This is not an armstrong number\")"
   ]
  }
 ],
 "metadata": {
  "kernelspec": {
   "display_name": "Python 3.8.3 64-bit",
   "language": "python",
   "name": "python38364bitfcf574c5fe5f4ad9a649178827f7862a"
  },
  "language_info": {
   "codemirror_mode": {
    "name": "ipython",
    "version": 3
   },
   "file_extension": ".py",
   "mimetype": "text/x-python",
   "name": "python",
   "nbconvert_exporter": "python",
   "pygments_lexer": "ipython3",
   "version": "3.8.3"
  }
 },
 "nbformat": 4,
 "nbformat_minor": 4
}
